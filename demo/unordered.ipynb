{
 "cells": [
  {
   "cell_type": "code",
   "execution_count": 1,
   "metadata": {
    "collapsed": true
   },
   "outputs": [],
   "source": [
    "import numpy as np\n",
    "from variational_staple.unordered import staple, vstaple"
   ]
  },
  {
   "cell_type": "code",
   "execution_count": 2,
   "outputs": [
    {
     "name": "stdout",
     "output_type": "stream",
     "text": [
      "Raters' confusion\n",
      "[[[1.         0.         0.        ]\n",
      "  [0.         1.         0.        ]\n",
      "  [0.         0.         1.        ]]\n",
      "\n",
      " [[0.8        0.1        0.1       ]\n",
      "  [0.1        0.8        0.1       ]\n",
      "  [0.1        0.1        0.8       ]]\n",
      "\n",
      " [[0.33333333 0.33333333 0.33333333]\n",
      "  [0.33333333 0.33333333 0.33333333]\n",
      "  [0.33333333 0.33333333 0.33333333]]\n",
      "\n",
      " [[0.1        0.8        0.1       ]\n",
      "  [0.8        0.1        0.1       ]\n",
      "  [0.1        0.1        0.8       ]]]\n"
     ]
    }
   ],
   "source": [
    "# We define the true performance of 4 raters tasked to classify \"things\"\n",
    "# between three classes. Since they are not perfect raters, they\n",
    "# have a probability of classifiying a \"thing\" as A even though it was B.\n",
    "# Each performance matrix gives the probability of rater n of choosing\n",
    "# class A when it should have been B:\n",
    "#   true_perf[n, A, B] = P(rater [n] says A | true class is B)\n",
    "true_perf = [\n",
    "    np.eye(3),                                              # rater 1 (perfect)\n",
    "    [[0.8, 0.1, 0.1], [0.1, 0.8, 0.1], [0.1, 0.1, 0.8]],    # rater 2 (imperfect)\n",
    "    np.ones([3, 3]) / 3,                                    # rater 3 (chance)\n",
    "    [[0.1, 0.8, 0.1], [0.8, 0.1, 0.1], [0.1, 0.1, 0.8]],    # rater 4 (confused)\n",
    "]\n",
    "true_perf = np.asarray(true_perf)\n",
    "\n",
    "# check that columns sum to one\n",
    "print('Raters\\' confusion')\n",
    "print(true_perf)"
   ],
   "metadata": {
    "collapsed": false,
    "pycharm": {
     "name": "#%%\n"
    }
   }
  },
  {
   "cell_type": "code",
   "execution_count": 3,
   "outputs": [
    {
     "name": "stdout",
     "output_type": "stream",
     "text": [
      "Sample of true classes\n",
      "[0 0 0 1 0 0 2 0 2 1]\n",
      "Sample of ratings\n",
      "[[0 0 0 1 0 0 2 0 2 1]\n",
      " [0 0 0 1 0 0 2 0 2 1]\n",
      " [1 0 0 0 0 1 2 1 1 0]\n",
      " [1 1 1 0 1 1 2 2 1 0]]\n"
     ]
    }
   ],
   "source": [
    "# sample true classes\n",
    "true_prop = [0.7, 0.2, 0.1]\n",
    "n = 10000\n",
    "true_classes = np.random.multinomial(1, true_prop, n).argmax(axis=1)   # [N]\n",
    "\n",
    "print('Sample of true classes')\n",
    "print(true_classes[:10])\n",
    "\n",
    "# sample the raters' choice using the confusion matrices\n",
    "conditional_confusion = true_perf[:, :, true_classes].transpose(2, 0, 1)          # [N, R, K]\n",
    "ratings = [np.random.multinomial(1, conditional_confusion[i, j]).argmax()\n",
    "           for i in range(n) for j in range(len(true_perf))]\n",
    "ratings = np.asarray(ratings).reshape(n, len(true_perf))\n",
    "\n",
    "print('Sample of ratings')\n",
    "print(ratings[:10].T)"
   ],
   "metadata": {
    "collapsed": false,
    "pycharm": {
     "name": "#%%\n"
    }
   }
  },
  {
   "cell_type": "code",
   "execution_count": 4,
   "outputs": [
    {
     "name": "stdout",
     "output_type": "stream",
     "text": [
      "Estimated confusion matrices\n",
      "[[[1.  0.  0. ]\n",
      "  [0.  1.  0. ]\n",
      "  [0.  0.  1. ]]\n",
      "\n",
      " [[0.8 0.1 0.1]\n",
      "  [0.1 0.8 0.1]\n",
      "  [0.1 0.1 0.8]]\n",
      "\n",
      " [[0.3 0.3 0.3]\n",
      "  [0.3 0.3 0.3]\n",
      "  [0.3 0.3 0.3]]\n",
      "\n",
      " [[0.1 0.8 0.1]\n",
      "  [0.8 0.1 0.1]\n",
      "  [0.1 0.1 0.8]]]\n",
      "Estimated class proportions\n",
      "[0.7 0.2 0.1]\n"
     ]
    }
   ],
   "source": [
    "# Fit using STAPLE\n",
    "\n",
    "perf, posterior, prior = staple(ratings)\n",
    "\n",
    "print('Estimated confusion matrices')\n",
    "print(np.around(perf, 1))\n",
    "\n",
    "print('Estimated class proportions')\n",
    "print(np.around(prior, 1))"
   ],
   "metadata": {
    "collapsed": false,
    "pycharm": {
     "name": "#%%\n"
    }
   }
  },
  {
   "cell_type": "code",
   "execution_count": 5,
   "outputs": [
    {
     "name": "stdout",
     "output_type": "stream",
     "text": [
      "Estimated confusion matrices\n",
      "[[[1.  0.  0. ]\n",
      "  [0.  1.  0. ]\n",
      "  [0.  0.  1. ]]\n",
      "\n",
      " [[0.8 0.1 0.1]\n",
      "  [0.1 0.8 0.1]\n",
      "  [0.1 0.1 0.8]]\n",
      "\n",
      " [[0.3 0.3 0.3]\n",
      "  [0.3 0.3 0.3]\n",
      "  [0.3 0.3 0.4]]\n",
      "\n",
      " [[0.1 0.8 0.1]\n",
      "  [0.8 0.1 0.1]\n",
      "  [0.1 0.1 0.8]]]\n",
      "Estimated class proportions\n",
      "[0.7 0.2 0.1]\n"
     ]
    }
   ],
   "source": [
    "# Fit using VSTAPLE (a variant of MAP-STAPLE)\n",
    "\n",
    "perf, posterior, prior = vstaple(ratings)\n",
    "\n",
    "print('Estimated confusion matrices')\n",
    "print(np.around(perf, 1))\n",
    "\n",
    "print('Estimated class proportions')\n",
    "print(np.around(prior, 1))"
   ],
   "metadata": {
    "collapsed": false,
    "pycharm": {
     "name": "#%%\n"
    }
   }
  }
 ],
 "metadata": {
  "kernelspec": {
   "display_name": "Python 3",
   "language": "python",
   "name": "python3"
  },
  "language_info": {
   "codemirror_mode": {
    "name": "ipython",
    "version": 2
   },
   "file_extension": ".py",
   "mimetype": "text/x-python",
   "name": "python",
   "nbconvert_exporter": "python",
   "pygments_lexer": "ipython2",
   "version": "2.7.6"
  }
 },
 "nbformat": 4,
 "nbformat_minor": 0
}