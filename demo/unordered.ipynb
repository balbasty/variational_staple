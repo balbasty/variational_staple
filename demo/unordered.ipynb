{
 "cells": [
  {
   "cell_type": "code",
   "execution_count": 33,
   "metadata": {
    "collapsed": true
   },
   "outputs": [],
   "source": [
    "import numpy as np\n",
    "from variational_staple.unordered import staple, vstaple"
   ]
  },
  {
   "cell_type": "code",
   "execution_count": 34,
   "outputs": [
    {
     "name": "stdout",
     "output_type": "stream",
     "text": [
      "Raters' confusion\n",
      "[[[1.         0.         0.        ]\n",
      "  [0.         1.         0.        ]\n",
      "  [0.         0.         1.        ]]\n",
      "\n",
      " [[0.8        0.1        0.1       ]\n",
      "  [0.1        0.8        0.1       ]\n",
      "  [0.1        0.1        0.8       ]]\n",
      "\n",
      " [[0.33333333 0.33333333 0.33333333]\n",
      "  [0.33333333 0.33333333 0.33333333]\n",
      "  [0.33333333 0.33333333 0.33333333]]\n",
      "\n",
      " [[0.1        0.8        0.1       ]\n",
      "  [0.8        0.1        0.1       ]\n",
      "  [0.1        0.1        0.8       ]]]\n"
     ]
    }
   ],
   "source": [
    "# We define the true performance of 4 raters tasked to classify \"things\"\n",
    "# between three classes. Since they are not perfect raters, they\n",
    "# have a probability of classifiying a \"thing\" as A even though it was B.\n",
    "# Each performance matrix gives the probability of rater n of choosing\n",
    "# class A when it should have been B:\n",
    "#   true_perf[n, A, B] = P(rater [n] says A | true class is B)\n",
    "true_perf = [\n",
    "    np.eye(3),                                              # rater 1 (perfect)\n",
    "    [[0.8, 0.1, 0.1], [0.1, 0.8, 0.1], [0.1, 0.1, 0.8]],    # rater 2 (imperfect)\n",
    "    np.ones([3, 3]) / 3,                                    # rater 3 (chance)\n",
    "    [[0.1, 0.8, 0.1], [0.8, 0.1, 0.1], [0.1, 0.1, 0.8]],    # rater 4 (confused)\n",
    "]\n",
    "true_perf = np.asarray(true_perf)\n",
    "\n",
    "# check that columns sum to one\n",
    "print('Raters\\' confusion')\n",
    "print(true_perf)"
   ],
   "metadata": {
    "collapsed": false,
    "pycharm": {
     "name": "#%%\n"
    }
   }
  },
  {
   "cell_type": "code",
   "execution_count": 35,
   "outputs": [
    {
     "name": "stdout",
     "output_type": "stream",
     "text": [
      "Sample of true classes\n",
      "[0 2 2 0 0 2 0 0 2 0]\n",
      "Sample of ratings\n",
      "[[0 2 2 0 0 2 0 0 2 0]\n",
      " [0 2 0 0 0 2 0 1 2 0]\n",
      " [1 0 0 2 2 2 2 2 1 1]\n",
      " [1 2 2 1 0 2 1 1 2 0]]\n"
     ]
    }
   ],
   "source": [
    "# sample true classes\n",
    "true_prop = [0.7, 0.2, 0.1]\n",
    "n = 10000\n",
    "true_classes = np.random.multinomial(1, true_prop, n).argmax(axis=1)   # [N]\n",
    "\n",
    "print('Sample of true classes')\n",
    "print(true_classes[:10])\n",
    "\n",
    "# sample the raters' choice using the confusion matrices\n",
    "conditional_confusion = true_perf[:, :, true_classes].transpose(2, 0, 1)          # [N, R, K]\n",
    "ratings = [np.random.multinomial(1, conditional_confusion[i, j]).argmax()\n",
    "           for i in range(n) for j in range(len(true_perf))]\n",
    "ratings = np.asarray(ratings).reshape(n, len(true_perf))\n",
    "\n",
    "print('Sample of ratings')\n",
    "print(ratings[:10].T)"
   ],
   "metadata": {
    "collapsed": false,
    "pycharm": {
     "name": "#%%\n"
    }
   }
  },
  {
   "cell_type": "code",
   "execution_count": 36,
   "outputs": [
    {
     "name": "stdout",
     "output_type": "stream",
     "text": [
      "Estimated confusion matrices\n",
      "[[[1.  0.  0.1]\n",
      "  [0.  1.  0. ]\n",
      "  [0.  0.  0.9]]\n",
      "\n",
      " [[0.8 0.1 0.1]\n",
      "  [0.1 0.8 0.1]\n",
      "  [0.1 0.1 0.8]]\n",
      "\n",
      " [[0.3 0.3 0.3]\n",
      "  [0.3 0.3 0.4]\n",
      "  [0.3 0.3 0.3]]\n",
      "\n",
      " [[0.1 0.8 0.1]\n",
      "  [0.8 0.1 0.1]\n",
      "  [0.1 0.1 0.8]]]\n",
      "Estimated class proportions\n",
      "[0.7 0.2 0.1]\n"
     ]
    }
   ],
   "source": [
    "# Fit using STAPLE\n",
    "\n",
    "perf, posterior, prior = staple(ratings)\n",
    "\n",
    "print('Estimated confusion matrices')\n",
    "print(np.around(perf, 1))\n",
    "\n",
    "print('Estimated class proportions')\n",
    "print(np.around(prior, 1))"
   ],
   "metadata": {
    "collapsed": false,
    "pycharm": {
     "name": "#%%\n"
    }
   }
  },
  {
   "cell_type": "code",
   "execution_count": 37,
   "outputs": [
    {
     "name": "stdout",
     "output_type": "stream",
     "text": [
      "Estimated confusion matrices\n",
      "[[[1.  0.  0. ]\n",
      "  [0.  1.  0. ]\n",
      "  [0.  0.  0.9]]\n",
      "\n",
      " [[0.8 0.1 0.1]\n",
      "  [0.1 0.8 0.1]\n",
      "  [0.1 0.1 0.8]]\n",
      "\n",
      " [[0.3 0.3 0.3]\n",
      "  [0.3 0.3 0.4]\n",
      "  [0.3 0.3 0.3]]\n",
      "\n",
      " [[0.1 0.8 0.1]\n",
      "  [0.8 0.1 0.1]\n",
      "  [0.1 0.1 0.8]]]\n",
      "Estimated class proportions\n",
      "[0.7 0.2 0.1]\n"
     ]
    }
   ],
   "source": [
    "# Fit using V-STAPLE (a variant of MAP-STAPLE)\n",
    "\n",
    "perf, posterior, prior = vstaple(ratings)\n",
    "\n",
    "print('Estimated confusion matrices')\n",
    "print(np.around(perf, 1))\n",
    "\n",
    "print('Estimated class proportions')\n",
    "print(np.around(prior, 1))"
   ],
   "metadata": {
    "collapsed": false,
    "pycharm": {
     "name": "#%%\n"
    }
   }
  },
  {
   "cell_type": "code",
   "execution_count": 38,
   "outputs": [
    {
     "name": "stdout",
     "output_type": "stream",
     "text": [
      "Estimated rater's variance (conditioned on truth)\n",
      "[[3.33131675e-14 1.00212039e-02 2.28933949e-01]\n",
      " [3.33131675e-14 3.45024128e-04 1.65707328e-04]\n",
      " [6.66329520e-01 6.60158986e-01 6.63491231e-01]\n",
      " [1.31509556e-03 4.04986843e-02 2.42416055e-01]]\n"
     ]
    },
    {
     "data": {
      "text/plain": "<Figure size 640x480 with 4 Axes>",
      "image/png": "[encoded data removed]"
     },
     "metadata": {},
     "output_type": "display_data"
    },
    {
     "name": "stdout",
     "output_type": "stream",
     "text": [
      "Estimated rater's marginal confusion matrices\n",
      "[[[1.  0.  0.1]\n",
      "  [0.  1.  0. ]\n",
      "  [0.  0.  0.9]]\n",
      "\n",
      " [[1.  0.  0. ]\n",
      "  [0.  1.  0. ]\n",
      "  [0.  0.  1. ]]\n",
      "\n",
      " [[0.3 0.3 0.3]\n",
      "  [0.3 0.4 0.4]\n",
      "  [0.3 0.3 0.3]]\n",
      "\n",
      " [[0.  1.  0. ]\n",
      "  [1.  0.  0.1]\n",
      "  [0.  0.  0.9]]]\n"
     ]
    }
   ],
   "source": [
    "from variational_staple.correlated import \\\n",
    "    vcstaple, correlation_pairwise, marginal_pairwise\n",
    "import matplotlib.pyplot as plt\n",
    "\n",
    "# Fit using VC-STAPLE (learn correlations)\n",
    "\n",
    "perf, posterior, prior = vcstaple(ratings)\n",
    "\n",
    "# compute correlation\n",
    "v, c = correlation_pairwise(perf)\n",
    "\n",
    "print('Estimated rater\\'s variance (conditioned on truth)')\n",
    "print(v)\n",
    "\n",
    "fig, axes = plt.subplots(1, 3)\n",
    "for k, ax in enumerate(axes):\n",
    "    plt.subplot(1, 3, k+1)\n",
    "    p = plt.imshow(c[..., k], cmap='coolwarm', vmin=-1, vmax=1)\n",
    "    plt.axis('off')\n",
    "    plt.title(f'truth = {k}')\n",
    "fig.subplots_adjust(right=0.8)\n",
    "cbar_ax = fig.add_axes([0.85, 0.15, 0.05, 0.7])\n",
    "fig.colorbar(p, cax=cbar_ax)\n",
    "plt.suptitle('Estimated correlations (conditioned on truth)')\n",
    "plt.show()\n",
    "\n",
    "\n",
    "print('Estimated rater\\'s marginal confusion matrices')\n",
    "print(np.around(marginal_pairwise(perf), 1))"
   ],
   "metadata": {
    "collapsed": false,
    "pycharm": {
     "name": "#%%\n"
    }
   }
  }
 ],
 "metadata": {
  "kernelspec": {
   "display_name": "Python 3",
   "language": "python",
   "name": "python3"
  },
  "language_info": {
   "codemirror_mode": {
    "name": "ipython",
    "version": 2
   },
   "file_extension": ".py",
   "mimetype": "text/x-python",
   "name": "python",
   "nbconvert_exporter": "python",
   "pygments_lexer": "ipython2",
   "version": "2.7.6"
  }
 },
 "nbformat": 4,
 "nbformat_minor": 0
}